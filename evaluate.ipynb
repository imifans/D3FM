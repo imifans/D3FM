{
 "cells": [
  {
   "cell_type": "code",
   "execution_count": 3,
   "metadata": {},
   "outputs": [],
   "source": [
    "from util.utils import evaluate_imgs"
   ]
  },
  {
   "cell_type": "code",
   "execution_count": 4,
   "metadata": {},
   "outputs": [
    {
     "name": "stdout",
     "output_type": "stream",
     "text": [
      "--------------------FLIR_00006.jpg--------------------\n",
      "SSIM_1: 0.718248405506776, SSIM_2: 0.8200912295601457\n",
      "Qabf1: 0.0, Qabf2: 0.0\n",
      "VIF1: 0.0, VIF2: 0.0\n",
      "MI1: 0.2631033340475172,MI2: 0.8474935472821341\n",
      "SD: 0.12314768880605698\n",
      "EN: 6.948622444678215\n",
      "--------------------FLIR_03952.jpg--------------------\n",
      "SSIM_1: 0.7950431910951663, SSIM_2: 0.8560124611247301\n",
      "Qabf1: 0.0, Qabf2: 0.0\n",
      "VIF1: 0.0, VIF2: 0.0\n",
      "MI1: 0.818661289729866,MI2: 1.0767099748727131\n",
      "SD: 0.1835000365972519\n",
      "EN: 7.110542725918437\n",
      "--------------------FLIR_08248.jpg--------------------\n",
      "SSIM_1: 0.8396374801712024, SSIM_2: 0.7490706938619035\n",
      "Qabf1: 0.0, Qabf2: 0.0\n",
      "VIF1: 0.0, VIF2: 0.0\n",
      "MI1: 0.5923858401716775,MI2: 0.7240393230060445\n",
      "SD: 0.1377478539943695\n",
      "EN: 6.918008135507429\n"
     ]
    }
   ],
   "source": [
    "vi_img_folder = \"/home/2021/hexin/XJ2/D3FM/input2/vi\"\n",
    "ir_img_folder = \"/home/2021/hexin/XJ2/D3FM/input2/ir\"\n",
    "f_img_folder = \"/home/2021/hexin/XJ2/D3FM/output2/recon\"\n",
    "evaluate_imgs(f_img_folder,vi_img_folder,ir_img_folder,\"RGB\")\n",
    "\n",
    "\n",
    "\n",
    "\n"
   ]
  }
 ],
 "metadata": {
  "kernelspec": {
   "display_name": "DDFM",
   "language": "python",
   "name": "python3"
  },
  "language_info": {
   "codemirror_mode": {
    "name": "ipython",
    "version": 3
   },
   "file_extension": ".py",
   "mimetype": "text/x-python",
   "name": "python",
   "nbconvert_exporter": "python",
   "pygments_lexer": "ipython3",
   "version": "3.8.19"
  }
 },
 "nbformat": 4,
 "nbformat_minor": 2
}
