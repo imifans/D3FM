{
 "cells": [
  {
   "cell_type": "code",
   "execution_count": 1,
   "metadata": {},
   "outputs": [],
   "source": [
    "from util.utils import evaluate_imgs"
   ]
  },
  {
   "cell_type": "code",
   "execution_count": 4,
   "metadata": {},
   "outputs": [
    {
     "name": "stdout",
     "output_type": "stream",
     "text": [
      "--------------------FLIR_03952.jpg--------------------\n",
      "SSIM_1: 0.721, SSIM_2: 0.779\n",
      "MI1: 0.756, MI2: 1.161\n",
      "SD: 0.191\n",
      "EN: 7.103\n",
      "--------------------FLIR_04071.jpg--------------------\n",
      "SSIM_1: 0.790, SSIM_2: 0.832\n",
      "MI1: 0.221, MI2: 0.923\n",
      "SD: 0.149\n",
      "EN: 6.763\n",
      "--------------------FLIR_04598.jpg--------------------\n",
      "SSIM_1: 0.740, SSIM_2: 0.821\n",
      "MI1: 0.502, MI2: 0.807\n",
      "SD: 0.181\n",
      "EN: 7.208\n",
      "--------------------FLIR_08248.jpg--------------------\n",
      "SSIM_1: 0.812, SSIM_2: 0.724\n",
      "MI1: 0.567, MI2: 0.744\n",
      "SD: 0.143\n",
      "EN: 6.921\n"
     ]
    }
   ],
   "source": [
    "vi_img_folder = \"/home/2021/hexin/XJ2/D3FM/input/vi\"\n",
    "ir_img_folder = \"/home/2021/hexin/XJ2/D3FM/input/ir\"\n",
    "f_img_folder = \"/home/2021/hexin/XJ2/D3FM/output/recon\"\n",
    "evaluate_imgs(f_img_folder,vi_img_folder,ir_img_folder,\"RGB\")"
   ]
  },
  {
   "cell_type": "code",
   "execution_count": 5,
   "metadata": {},
   "outputs": [
    {
     "name": "stdout",
     "output_type": "stream",
     "text": [
      "--------------------FLIR_03952.jpg--------------------\n",
      "SSIM_1: 0.793, SSIM_2: 0.850\n",
      "MI1: 0.825, MI2: 1.065\n",
      "SD: 0.184\n",
      "EN: 7.117\n",
      "--------------------FLIR_04071.jpg--------------------\n",
      "SSIM_1: 0.897, SSIM_2: 0.911\n",
      "MI1: 0.636, MI2: 0.577\n",
      "SD: 0.146\n",
      "EN: 7.058\n",
      "--------------------FLIR_04598.jpg--------------------\n",
      "SSIM_1: 0.756, SSIM_2: 0.820\n",
      "MI1: 0.500, MI2: 0.782\n",
      "SD: 0.176\n",
      "EN: 7.165\n",
      "--------------------FLIR_08248.jpg--------------------\n",
      "SSIM_1: 0.825, SSIM_2: 0.730\n",
      "MI1: 0.622, MI2: 0.713\n",
      "SD: 0.141\n",
      "EN: 6.949\n"
     ]
    }
   ],
   "source": [
    "vi_img_folder = \"/home/2021/hexin/XJ2/D3FM/input/vi\"\n",
    "ir_img_folder = \"/home/2021/hexin/XJ2/D3FM/input/ir\"\n",
    "f_img_folder = \"/home/2021/hexin/XJ2/D3FM/output2/recon\"\n",
    "evaluate_imgs(f_img_folder,vi_img_folder,ir_img_folder,\"RGB\")"
   ]
  }
 ],
 "metadata": {
  "kernelspec": {
   "display_name": "DDFM",
   "language": "python",
   "name": "python3"
  },
  "language_info": {
   "codemirror_mode": {
    "name": "ipython",
    "version": 3
   },
   "file_extension": ".py",
   "mimetype": "text/x-python",
   "name": "python",
   "nbconvert_exporter": "python",
   "pygments_lexer": "ipython3",
   "version": "3.8.19"
  }
 },
 "nbformat": 4,
 "nbformat_minor": 2
}
