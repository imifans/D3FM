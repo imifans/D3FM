{
 "cells": [
  {
   "cell_type": "code",
   "execution_count": 88,
   "metadata": {},
   "outputs": [],
   "source": [
    "import cv2\n",
    "import numpy as np\n",
    "from skimage.metrics import structural_similarity as ssim\n",
    "from skimage.measure import shannon_entropy\n",
    "from functools import partial\n",
    "import os\n",
    "import yaml\n",
    "import torch\n",
    "from guided_diffusion.unet import create_model,create_model_ir\n",
    "from guided_diffusion.gaussian_diffusion import create_sampler\n",
    "from util.logger import get_logger\n",
    "import cv2\n",
    "import numpy as np\n",
    "from skimage.io import imsave\n",
    "import warnings\n",
    "import shutil\n",
    "import matplotlib.pyplot as plt\n",
    "def calculate_ssim(imageA, imageB):\n",
    "    assert imageA.shape == imageA.shape\n",
    "    grayA = cv2.cvtColor(imageA, cv2.COLOR_BGR2GRAY)\n",
    "    grayB = cv2.cvtColor(imageB, cv2.COLOR_BGR2GRAY)\n",
    "    score, _ = ssim(grayA, grayB, full=True)\n",
    "    return score\n",
    "\n",
    "def calculate_qabf(imageA, imageB):\n",
    "    return 0.0\n",
    "\n",
    "def calculate_vif(imageA, imageB):\n",
    "    return 0.0\n",
    "    \n",
    "# MI (Mutual Information)\n",
    "def calculate_mi(imageA, imageB):\n",
    "    hist_2d, _, _ = np.histogram2d(imageA.ravel(), imageB.ravel(), bins=20)\n",
    "    pxy = hist_2d / float(np.sum(hist_2d))\n",
    "    px = np.sum(pxy, axis=1)\n",
    "    py = np.sum(pxy, axis=0)\n",
    "    px_py = px[:, None] * py[None, :]\n",
    "    nzs = pxy > 0\n",
    "    return np.sum(pxy[nzs] * np.log(pxy[nzs] / px_py[nzs]))\n",
    "    return mutual_information(hist_2d)\n",
    "\n",
    "def calculate_sd(image):\n",
    "    return np.std(image)\n",
    "\n",
    "def calculate_en(image):\n",
    "    return shannon_entropy(image)\n",
    "def image_read(path, mode='RGB'):\n",
    "    img_BGR = cv2.imread(path).astype('float32')\n",
    "    assert mode == 'RGB' or mode == 'GRAY' or mode == 'YCrCb', 'mode error'\n",
    "    if mode == 'RGB':\n",
    "        img = cv2.cvtColor(img_BGR, cv2.COLOR_BGR2RGB) # OpenCV 中用于将图像的颜色空间从 BGR（蓝-绿-红）转换为 RGB（红-绿-蓝）的函数\n",
    "    elif mode == 'GRAY':  \n",
    "        img = np.round(cv2.cvtColor(img_BGR, cv2.COLOR_BGR2GRAY))\n",
    "    elif mode == 'YCrCb':\n",
    "        img = cv2.cvtColor(img_BGR, cv2.COLOR_BGR2YCrCb)\n",
    "    return img\n",
    "\n",
    "\n",
    "\n",
    "\n"
   ]
  },
  {
   "cell_type": "code",
   "execution_count": 89,
   "metadata": {},
   "outputs": [],
   "source": [
    "def plot(a,b,c):\n",
    "    # 创建子图\n",
    "    fig, axs = plt.subplots(1, 3, figsize=(15, 5))\n",
    "\n",
    "    # 显示原始RGB图像\n",
    "    axs[0].imshow(a)\n",
    "    axs[1].imshow(b)\n",
    "    axs[2].imshow(c)\n",
    "    # 显示图像\n",
    "    plt.show()\n",
    "    \n",
    "def adjust_image_shape(img, scale):\n",
    "    h, w = img.shape[:2]\n",
    "    h = h - h % scale\n",
    "    w = w - w % scale\n",
    "    return img[:h, :w, :]\n",
    "\n",
    "def gray_to_rgb(gray_img):\n",
    "    # 将灰度图像的单通道数据复制到三个通道中\n",
    "    return np.stack([gray_img] * 3, axis=-1)"
   ]
  },
  {
   "cell_type": "code",
   "execution_count": 90,
   "metadata": {},
   "outputs": [
    {
     "name": "stdout",
     "output_type": "stream",
     "text": [
      "list = /home/2021/hexin/XJ2/D3FM/input/vi/FLIR_08248.jpg\n",
      "vi.shape = (311, 481)\n"
     ]
    }
   ],
   "source": [
    "vi_img_folder = \"/home/2021/hexin/XJ2/D3FM/input/vi\"\n",
    "ir_img_folder = \"/home/2021/hexin/XJ2/D3FM/input/ir\"\n",
    "f_img_folder = \"/home/2021/hexin/XJ2/D3FM/output/recon\"\n",
    "name = \"FLIR_08248\"\n",
    "img_name = f\"{name}.jpg\"\n",
    "f_name = f\"{name}.png\"\n",
    "print(f\"list = {os.path.join(vi_img_folder,img_name)}\")\n",
    "\n",
    "mode = \"GRAY\" #RGB:[1,1,H,W,3] GRAY:[1,1,H,W]\n",
    "vi = image_read(os.path.join(vi_img_folder,img_name),mode=mode)[np.newaxis,np.newaxis, ...]/255.0 \n",
    "ir = image_read(os.path.join(ir_img_folder,img_name), mode=mode)[np.newaxis,np.newaxis, ...]/255.0 \n",
    "f = image_read(os.path.join(f_img_folder,f_name), mode=mode)[np.newaxis,np.newaxis, ...]/255.0 \n",
    "\n",
    "\n",
    "vi = np.squeeze(vi)  \n",
    "ir = np.squeeze(ir) \n",
    "f = np.squeeze(f) \n",
    "print(f\"vi.shape = {vi.shape}\")\n",
    "#plot(vi,ir,f)\n",
    "\n",
    "# crop to make divisible\n",
    "\n",
    "\n",
    "\n",
    "\n",
    "\n",
    "\n"
   ]
  },
  {
   "cell_type": "code",
   "execution_count": 91,
   "metadata": {},
   "outputs": [
    {
     "name": "stdout",
     "output_type": "stream",
     "text": [
      "(288, 480, 3)\n",
      "(288, 480, 3)\n"
     ]
    }
   ],
   "source": [
    "if(mode == \"GRAY\"):\n",
    "    vi = gray_to_rgb(vi)\n",
    "    ir = gray_to_rgb(ir)\n",
    "    f = gray_to_rgb(f)\n",
    "    \n",
    "scale = 32\n",
    "ir = adjust_image_shape(ir,scale)\n",
    "vi = adjust_image_shape(vi,scale)\n",
    "f = adjust_image_shape(f,scale)\n",
    "assert ir.shape == vi.shape\n",
    "\n",
    "print(ir.shape)\n",
    "print(f.shape)\n",
    "\n",
    "inf_img = ir.squeeze()\n",
    "vis_img = vi.squeeze()\n",
    "f_img = f.squeeze()\n",
    "#plot(vis_img,inf_img,f_img)"
   ]
  },
  {
   "cell_type": "code",
   "execution_count": 92,
   "metadata": {},
   "outputs": [
    {
     "name": "stdout",
     "output_type": "stream",
     "text": [
      "SSIM_1: 0.8152705009436524, SSIM_2: 0.8152705009436524\n",
      "Qabf: 0.0\n",
      "VIF: 0.0\n",
      "MI: 0.7175706252035706\n",
      "SD: 0.1431395560503006\n",
      "EN: 6.921187224464151\n"
     ]
    }
   ],
   "source": [
    "ssim_value1 = calculate_ssim(f, vi)\n",
    "ssim_value2 = calculate_ssim(f, vi)\n",
    "\n",
    "qabf_value = calculate_qabf(f, vi)\n",
    "vif_value = calculate_vif(f, vi)\n",
    "mi_value = calculate_mi(f, vi)\n",
    "sd_value = calculate_sd(f)\n",
    "en_value = calculate_en(f)\n",
    "\n",
    "print(f\"SSIM_1: {ssim_value1}, SSIM_2: {ssim_value2}\")\n",
    "print(f\"Qabf: {qabf_value}\")\n",
    "print(f\"VIF: {vif_value}\")\n",
    "print(f\"MI: {mi_value}\")\n",
    "print(f\"SD: {sd_value}\")\n",
    "print(f\"EN: {en_value}\")"
   ]
  }
 ],
 "metadata": {
  "kernelspec": {
   "display_name": "DDFM",
   "language": "python",
   "name": "python3"
  },
  "language_info": {
   "codemirror_mode": {
    "name": "ipython",
    "version": 3
   },
   "file_extension": ".py",
   "mimetype": "text/x-python",
   "name": "python",
   "nbconvert_exporter": "python",
   "pygments_lexer": "ipython3",
   "version": "3.8.19"
  }
 },
 "nbformat": 4,
 "nbformat_minor": 2
}
