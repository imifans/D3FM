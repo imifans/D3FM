{
 "cells": [
  {
   "cell_type": "code",
   "execution_count": 4,
   "metadata": {},
   "outputs": [],
   "source": [
    "from util.utils import evaluate_imgs"
   ]
  },
  {
   "cell_type": "code",
   "execution_count": 5,
   "metadata": {},
   "outputs": [
    {
     "name": "stdout",
     "output_type": "stream",
     "text": [
      "--------------------FLIR_03952.jpg--------------------\n",
      "SSIM_1: 0.799, SSIM_2: 0.836\n",
      "MI1: 0.927, MI2: 1.044\n",
      "SD: 0.188\n",
      "EN: 7.131\n",
      "--------------------FLIR_04071.jpg--------------------\n",
      "SSIM_1: 0.902, SSIM_2: 0.899\n",
      "MI1: 0.779, MI2: 0.559\n",
      "SD: 0.153\n",
      "EN: 7.080\n",
      "--------------------FLIR_04598.jpg--------------------\n",
      "SSIM_1: 0.736, SSIM_2: 0.587\n",
      "MI1: 1.156, MI2: 0.770\n",
      "SD: 0.199\n",
      "EN: 7.527\n",
      "--------------------FLIR_08248.jpg--------------------\n",
      "SSIM_1: 0.785, SSIM_2: 0.817\n",
      "MI1: 0.442, MI2: 1.002\n",
      "SD: 0.147\n",
      "EN: 6.987\n"
     ]
    }
   ],
   "source": [
    "vi_img_folder = \"/home/2021/hexin/XJ2/D3FM/input/vi\"\n",
    "ir_img_folder = \"/home/2021/hexin/XJ2/D3FM/input/ir\"\n",
    "f_img_folder = \"/home/2021/hexin/XJ2/D3FM/output2/d3fm_mix/recon\"\n",
    "evaluate_imgs(f_img_folder,vi_img_folder,ir_img_folder,\"RGB\")"
   ]
  },
  {
   "cell_type": "code",
   "execution_count": 6,
   "metadata": {},
   "outputs": [
    {
     "name": "stdout",
     "output_type": "stream",
     "text": [
      "--------------------FLIR_03952.jpg--------------------\n",
      "SSIM_1: 0.799, SSIM_2: 0.836\n",
      "MI1: 0.927, MI2: 1.044\n",
      "SD: 0.188\n",
      "EN: 7.131\n",
      "--------------------FLIR_04071.jpg--------------------\n",
      "SSIM_1: 0.902, SSIM_2: 0.899\n",
      "MI1: 0.779, MI2: 0.559\n",
      "SD: 0.153\n",
      "EN: 7.080\n",
      "--------------------FLIR_04598.jpg--------------------\n",
      "SSIM_1: 0.736, SSIM_2: 0.587\n",
      "MI1: 1.156, MI2: 0.770\n",
      "SD: 0.199\n",
      "EN: 7.527\n",
      "--------------------FLIR_08248.jpg--------------------\n",
      "SSIM_1: 0.785, SSIM_2: 0.817\n",
      "MI1: 0.442, MI2: 1.002\n",
      "SD: 0.147\n",
      "EN: 6.987\n"
     ]
    }
   ],
   "source": [
    "vi_img_folder = \"/home/2021/hexin/XJ2/D3FM/input/vi\"\n",
    "ir_img_folder = \"/home/2021/hexin/XJ2/D3FM/input/ir\"\n",
    "f_img_folder = \"/home/2021/hexin/XJ2/D3FM/output2/recon\"\n",
    "evaluate_imgs(f_img_folder,vi_img_folder,ir_img_folder,\"RGB\")"
   ]
  }
 ],
 "metadata": {
  "kernelspec": {
   "display_name": "DDFM",
   "language": "python",
   "name": "python3"
  },
  "language_info": {
   "codemirror_mode": {
    "name": "ipython",
    "version": 3
   },
   "file_extension": ".py",
   "mimetype": "text/x-python",
   "name": "python",
   "nbconvert_exporter": "python",
   "pygments_lexer": "ipython3",
   "version": "3.8.19"
  }
 },
 "nbformat": 4,
 "nbformat_minor": 2
}
